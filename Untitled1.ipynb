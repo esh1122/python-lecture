{
 "cells": [
  {
   "cell_type": "code",
   "execution_count": 1,
   "id": "420cda82",
   "metadata": {
    "ExecuteTime": {
     "end_time": "2021-05-25T00:39:41.118441Z",
     "start_time": "2021-05-25T00:39:41.114443Z"
    }
   },
   "outputs": [],
   "source": [
    "a = True\n",
    "b = False"
   ]
  },
  {
   "cell_type": "code",
   "execution_count": 2,
   "id": "105408c8",
   "metadata": {
    "ExecuteTime": {
     "end_time": "2021-05-25T00:40:06.181501Z",
     "start_time": "2021-05-25T00:40:06.171518Z"
    }
   },
   "outputs": [
    {
     "name": "stdout",
     "output_type": "stream",
     "text": [
      "<class 'bool'>\n"
     ]
    }
   ],
   "source": [
    "print(type(a))"
   ]
  },
  {
   "cell_type": "code",
   "execution_count": 3,
   "id": "387d8f47",
   "metadata": {
    "ExecuteTime": {
     "end_time": "2021-05-25T00:40:24.575625Z",
     "start_time": "2021-05-25T00:40:24.554113Z"
    }
   },
   "outputs": [
    {
     "data": {
      "text/plain": [
       "True"
      ]
     },
     "execution_count": 3,
     "metadata": {},
     "output_type": "execute_result"
    }
   ],
   "source": [
    "1 == 1"
   ]
  },
  {
   "cell_type": "code",
   "execution_count": 4,
   "id": "3e830701",
   "metadata": {
    "ExecuteTime": {
     "end_time": "2021-05-25T00:40:39.308937Z",
     "start_time": "2021-05-25T00:40:39.289959Z"
    }
   },
   "outputs": [
    {
     "data": {
      "text/plain": [
       "False"
      ]
     },
     "execution_count": 4,
     "metadata": {},
     "output_type": "execute_result"
    }
   ],
   "source": [
    "2 < 1"
   ]
  },
  {
   "cell_type": "code",
   "execution_count": 6,
   "id": "3f7c553c",
   "metadata": {
    "ExecuteTime": {
     "end_time": "2021-05-25T00:42:33.313837Z",
     "start_time": "2021-05-25T00:42:33.304843Z"
    }
   },
   "outputs": [
    {
     "data": {
      "text/plain": [
       "True"
      ]
     },
     "execution_count": 6,
     "metadata": {},
     "output_type": "execute_result"
    }
   ],
   "source": [
    "bool(\"python\")"
   ]
  },
  {
   "cell_type": "code",
   "execution_count": 7,
   "id": "053d26aa",
   "metadata": {
    "ExecuteTime": {
     "end_time": "2021-05-25T00:42:57.304636Z",
     "start_time": "2021-05-25T00:42:57.289627Z"
    }
   },
   "outputs": [
    {
     "data": {
      "text/plain": [
       "False"
      ]
     },
     "execution_count": 7,
     "metadata": {},
     "output_type": "execute_result"
    }
   ],
   "source": [
    "bool(\"\")"
   ]
  },
  {
   "cell_type": "code",
   "execution_count": 8,
   "id": "3283ac3a",
   "metadata": {
    "ExecuteTime": {
     "end_time": "2021-05-25T00:46:08.627306Z",
     "start_time": "2021-05-25T00:46:08.608304Z"
    }
   },
   "outputs": [
    {
     "data": {
      "text/plain": [
       "float"
      ]
     },
     "execution_count": 8,
     "metadata": {},
     "output_type": "execute_result"
    }
   ],
   "source": [
    "pi = 3.14159\n",
    "type(pi)\n"
   ]
  },
  {
   "cell_type": "code",
   "execution_count": 9,
   "id": "9666c6ef",
   "metadata": {
    "ExecuteTime": {
     "end_time": "2021-05-25T00:48:21.976200Z",
     "start_time": "2021-05-25T00:48:21.968206Z"
    }
   },
   "outputs": [
    {
     "data": {
      "text/plain": [
       "float"
      ]
     },
     "execution_count": 9,
     "metadata": {},
     "output_type": "execute_result"
    }
   ],
   "source": [
    "a = 5\n",
    "b = 4.7\n",
    "type(a)\n",
    "type(b)"
   ]
  },
  {
   "cell_type": "code",
   "execution_count": 10,
   "id": "f1002951",
   "metadata": {
    "ExecuteTime": {
     "end_time": "2021-05-25T00:48:42.519369Z",
     "start_time": "2021-05-25T00:48:42.503362Z"
    }
   },
   "outputs": [
    {
     "data": {
      "text/plain": [
       "int"
      ]
     },
     "execution_count": 10,
     "metadata": {},
     "output_type": "execute_result"
    }
   ],
   "source": [
    "type(a)"
   ]
  },
  {
   "cell_type": "code",
   "execution_count": 11,
   "id": "d0c6637b",
   "metadata": {
    "ExecuteTime": {
     "end_time": "2021-05-25T00:49:00.016896Z",
     "start_time": "2021-05-25T00:48:59.999921Z"
    }
   },
   "outputs": [
    {
     "data": {
      "text/plain": [
       "9.7"
      ]
     },
     "execution_count": 11,
     "metadata": {},
     "output_type": "execute_result"
    }
   ],
   "source": [
    "a + b"
   ]
  },
  {
   "cell_type": "code",
   "execution_count": 13,
   "id": "06b1245f",
   "metadata": {
    "ExecuteTime": {
     "end_time": "2021-05-25T05:58:48.229741Z",
     "start_time": "2021-05-25T05:58:48.222728Z"
    }
   },
   "outputs": [
    {
     "ename": "SyntaxError",
     "evalue": "invalid syntax (<ipython-input-13-e1266d9fa0fa>, line 1)",
     "output_type": "error",
     "traceback": [
      "\u001b[1;36m  File \u001b[1;32m\"<ipython-input-13-e1266d9fa0fa>\"\u001b[1;36m, line \u001b[1;32m1\u001b[0m\n\u001b[1;33m    def two_plus(a,b)\u001b[0m\n\u001b[1;37m                     ^\u001b[0m\n\u001b[1;31mSyntaxError\u001b[0m\u001b[1;31m:\u001b[0m invalid syntax\n"
     ]
    }
   ],
   "source": [
    "def two_plus(a,b)\n",
    "    return a + b\n",
    "\n",
    "two_plus(10,20)"
   ]
  },
  {
   "cell_type": "code",
   "execution_count": null,
   "id": "6fe57732",
   "metadata": {},
   "outputs": [],
   "source": []
  }
 ],
 "metadata": {
  "kernelspec": {
   "display_name": "Python 3",
   "language": "python",
   "name": "python3"
  },
  "language_info": {
   "codemirror_mode": {
    "name": "ipython",
    "version": 3
   },
   "file_extension": ".py",
   "mimetype": "text/x-python",
   "name": "python",
   "nbconvert_exporter": "python",
   "pygments_lexer": "ipython3",
   "version": "3.7.9"
  },
  "toc": {
   "base_numbering": 1,
   "nav_menu": {},
   "number_sections": true,
   "sideBar": true,
   "skip_h1_title": false,
   "title_cell": "Table of Contents",
   "title_sidebar": "Contents",
   "toc_cell": false,
   "toc_position": {},
   "toc_section_display": true,
   "toc_window_display": false
  },
  "varInspector": {
   "cols": {
    "lenName": 16,
    "lenType": 16,
    "lenVar": 40
   },
   "kernels_config": {
    "python": {
     "delete_cmd_postfix": "",
     "delete_cmd_prefix": "del ",
     "library": "var_list.py",
     "varRefreshCmd": "print(var_dic_list())"
    },
    "r": {
     "delete_cmd_postfix": ") ",
     "delete_cmd_prefix": "rm(",
     "library": "var_list.r",
     "varRefreshCmd": "cat(var_dic_list()) "
    }
   },
   "types_to_exclude": [
    "module",
    "function",
    "builtin_function_or_method",
    "instance",
    "_Feature"
   ],
   "window_display": false
  }
 },
 "nbformat": 4,
 "nbformat_minor": 5
}
